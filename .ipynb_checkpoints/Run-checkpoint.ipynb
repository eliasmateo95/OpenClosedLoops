{
 "cells": [
  {
   "cell_type": "code",
   "execution_count": 1,
   "id": "cf98bd73",
   "metadata": {
    "scrolled": true
   },
   "outputs": [
    {
     "name": "stdout",
     "output_type": "stream",
     "text": [
      "[0, 'eye_blink', 'pulse', 'eye_blink_open', 'pulse_open']\n",
      "TIME: starting took 0.000s\n",
      "only open loop  False\n",
      "TIME: unfiltered: True, filtered: True, f0:0, Noise loaded took 17.988s\n"
     ]
    },
    {
     "name": "stderr",
     "output_type": "stream",
     "text": [
      "WARNING    The NeuronGroup 'neurongroup_4' sets a threshold but neither a reset condition nor a refractory condition has been set. Did you forget either of those? If this was intended, set the reset argument to an empty string in order to avoid this warning. [brian2.groups.neurongroup.only_threshold]\n"
     ]
    },
    {
     "name": "stdout",
     "output_type": "stream",
     "text": [
      "TIME: about to run took 1.013s\n",
      "TIME: finished run, starting to save took 206.155s\n",
      "TIME: created save folders until filtered-unfiltered took 0.119s\n",
      "TIME: starting save took 0.000s\n",
      "TIME: Seed: closed_open_loops_diff_tau, Noise Gain: 1, Zebrin: positive, Plasticity: no_Plasticity, f0: 0 took 362.077s\n",
      "TIME: starting took 0.000s\n",
      "only open loop  False\n",
      "TIME: unfiltered: True, filtered: True, f0:0, Noise loaded took 17.861s\n"
     ]
    },
    {
     "name": "stderr",
     "output_type": "stream",
     "text": [
      "WARNING    The NeuronGroup 'neurongroup_4' sets a threshold but neither a reset condition nor a refractory condition has been set. Did you forget either of those? If this was intended, set the reset argument to an empty string in order to avoid this warning. [brian2.groups.neurongroup.only_threshold]\n"
     ]
    },
    {
     "name": "stdout",
     "output_type": "stream",
     "text": [
      "TIME: about to run took 0.685s\n",
      "TIME: finished run, starting to save took 337.001s\n",
      "TIME: created save folders until filtered-unfiltered took 0.120s\n",
      "TIME: starting save took 0.000s\n",
      "TIME: Seed: closed_open_loops_diff_tau, Noise Gain: 1, Zebrin: positive, Plasticity: Plasticity, f0: 0 took 580.851s\n",
      "TIME: starting took 0.000s\n",
      "only open loop  False\n",
      "TIME: unfiltered: True, filtered: True, f0:0, Noise loaded took 17.862s\n",
      "after_Plasticity Plasticity\n"
     ]
    },
    {
     "name": "stderr",
     "output_type": "stream",
     "text": [
      "WARNING    The NeuronGroup 'neurongroup_4' sets a threshold but neither a reset condition nor a refractory condition has been set. Did you forget either of those? If this was intended, set the reset argument to an empty string in order to avoid this warning. [brian2.groups.neurongroup.only_threshold]\n"
     ]
    },
    {
     "name": "stdout",
     "output_type": "stream",
     "text": [
      "TIME: about to run took 202.814s\n",
      "TIME: finished run, starting to save took 207.742s\n",
      "TIME: created save folders until filtered-unfiltered took 0.104s\n",
      "TIME: starting save took 0.000s\n",
      "TIME: Seed: closed_open_loops_diff_tau, Noise Gain: 1, Zebrin: positive, Plasticity: after_Plasticity, f0: 0 took 562.928s\n",
      "TIME: starting took 0.000s\n",
      "only open loop  False\n",
      "TIME: unfiltered: True, filtered: True, f0:0, Noise loaded took 17.972s\n"
     ]
    },
    {
     "name": "stderr",
     "output_type": "stream",
     "text": [
      "WARNING    The NeuronGroup 'neurongroup_1' sets a threshold but neither a reset condition nor a refractory condition has been set. Did you forget either of those? If this was intended, set the reset argument to an empty string in order to avoid this warning. [brian2.groups.neurongroup.only_threshold]\n"
     ]
    },
    {
     "name": "stdout",
     "output_type": "stream",
     "text": [
      "TIME: about to run took 0.696s\n",
      "TIME: finished run, starting to save took 209.552s\n",
      "TIME: created save folders until filtered-unfiltered took 0.089s\n",
      "TIME: starting save took 0.000s\n",
      "TIME: Seed: closed_open_loops_diff_tau, Noise Gain: 1, Zebrin: negative, Plasticity: no_Plasticity, f0: 0 took 369.857s\n",
      "TIME: starting took 0.000s\n",
      "only open loop  False\n",
      "TIME: unfiltered: True, filtered: True, f0:0, Noise loaded took 17.898s\n"
     ]
    },
    {
     "name": "stderr",
     "output_type": "stream",
     "text": [
      "WARNING    The NeuronGroup 'neurongroup' sets a threshold but neither a reset condition nor a refractory condition has been set. Did you forget either of those? If this was intended, set the reset argument to an empty string in order to avoid this warning. [brian2.groups.neurongroup.only_threshold]\n"
     ]
    },
    {
     "name": "stdout",
     "output_type": "stream",
     "text": [
      "TIME: about to run took 0.699s\n",
      "TIME: finished run, starting to save took 341.023s\n",
      "TIME: created save folders until filtered-unfiltered took 0.058s\n",
      "TIME: starting save took 0.000s\n",
      "TIME: Seed: closed_open_loops_diff_tau, Noise Gain: 1, Zebrin: negative, Plasticity: Plasticity, f0: 0 took 583.393s\n",
      "TIME: starting took 0.000s\n",
      "only open loop  False\n",
      "TIME: unfiltered: True, filtered: True, f0:0, Noise loaded took 17.785s\n",
      "after_Plasticity Plasticity\n"
     ]
    },
    {
     "name": "stderr",
     "output_type": "stream",
     "text": [
      "WARNING    The NeuronGroup 'neurongroup' sets a threshold but neither a reset condition nor a refractory condition has been set. Did you forget either of those? If this was intended, set the reset argument to an empty string in order to avoid this warning. [brian2.groups.neurongroup.only_threshold]\n"
     ]
    },
    {
     "name": "stdout",
     "output_type": "stream",
     "text": [
      "TIME: about to run took 202.098s\n",
      "TIME: finished run, starting to save took 208.202s\n",
      "TIME: created save folders until filtered-unfiltered took 0.008s\n",
      "TIME: starting save took 0.000s\n",
      "TIME: Seed: closed_open_loops_diff_tau, Noise Gain: 1, Zebrin: negative, Plasticity: after_Plasticity, f0: 0 took 562.377s\n",
      "TIME: starting took 0.000s\n",
      "only open loop  False\n",
      "I_recorded eye_blink\n",
      "eye_blink\n",
      "eye_blink\n",
      "TIME: unfiltered: True, filtered: True, f0:eye_blink, Noise loaded took 17.831s\n",
      "eye_blink IO_OU_Copy\n",
      "eye_blink IO_OU_Copy added\n"
     ]
    },
    {
     "name": "stderr",
     "output_type": "stream",
     "text": [
      "WARNING    The NeuronGroup 'neurongroup' sets a threshold but neither a reset condition nor a refractory condition has been set. Did you forget either of those? If this was intended, set the reset argument to an empty string in order to avoid this warning. [brian2.groups.neurongroup.only_threshold]\n"
     ]
    },
    {
     "name": "stdout",
     "output_type": "stream",
     "text": [
      "TIME: about to run took 0.717s\n",
      "TIME: finished run, starting to save took 209.107s\n",
      "TIME: created save folders until filtered-unfiltered took 0.009s\n",
      "TIME: unfiltered but f0 is not 0 took 0.001s\n",
      "TIME: starting save took 0.000s\n",
      "TIME: Seed: closed_open_loops_diff_tau, Noise Gain: 1, Zebrin: positive, Plasticity: no_Plasticity, f0: eye_blink took 360.609s\n",
      "TIME: starting took 0.000s\n",
      "only open loop  False\n",
      "I_recorded eye_blink\n",
      "eye_blink\n",
      "eye_blink\n",
      "TIME: unfiltered: True, filtered: True, f0:eye_blink, Noise loaded took 17.827s\n",
      "eye_blink IO_OU_Copy\n",
      "eye_blink IO_OU_Copy added\n"
     ]
    },
    {
     "name": "stderr",
     "output_type": "stream",
     "text": [
      "WARNING    The NeuronGroup 'neurongroup' sets a threshold but neither a reset condition nor a refractory condition has been set. Did you forget either of those? If this was intended, set the reset argument to an empty string in order to avoid this warning. [brian2.groups.neurongroup.only_threshold]\n"
     ]
    },
    {
     "name": "stdout",
     "output_type": "stream",
     "text": [
      "TIME: about to run took 0.688s\n",
      "TIME: finished run, starting to save took 334.602s\n",
      "TIME: created save folders until filtered-unfiltered took 0.008s\n",
      "TIME: unfiltered but f0 is not 0 took 0.001s\n",
      "TIME: starting save took 0.000s\n",
      "TIME: Seed: closed_open_loops_diff_tau, Noise Gain: 1, Zebrin: positive, Plasticity: Plasticity, f0: eye_blink took 573.922s\n",
      "TIME: starting took 0.000s\n",
      "only open loop  False\n",
      "I_recorded eye_blink\n",
      "eye_blink\n",
      "eye_blink\n",
      "TIME: unfiltered: True, filtered: True, f0:eye_blink, Noise loaded took 17.811s\n",
      "after_Plasticity Plasticity\n",
      "eye_blink IO_OU_Copy\n",
      "eye_blink IO_OU_Copy added\n"
     ]
    },
    {
     "name": "stderr",
     "output_type": "stream",
     "text": [
      "WARNING    The NeuronGroup 'neurongroup' sets a threshold but neither a reset condition nor a refractory condition has been set. Did you forget either of those? If this was intended, set the reset argument to an empty string in order to avoid this warning. [brian2.groups.neurongroup.only_threshold]\n",
      "WARNING    't' is an internal variable of group 'neurongroup_9', but also exists in the run namespace with the value array([0.00000000e+00, 1.00000833e-03, 2.00001667e-03, ...,\n",
      "       1.19998000e+02, 1.19999000e+02, 1.20000000e+02]). The internal variable will be used. [brian2.groups.group.Group.resolve.resolution_conflict]\n"
     ]
    },
    {
     "name": "stdout",
     "output_type": "stream",
     "text": [
      "TIME: about to run took 202.027s\n",
      "TIME: finished run, starting to save took 208.192s\n",
      "TIME: created save folders until filtered-unfiltered took 0.009s\n",
      "TIME: unfiltered but f0 is not 0 took 0.018s\n",
      "TIME: starting save took 0.000s\n",
      "TIME: Seed: closed_open_loops_diff_tau, Noise Gain: 1, Zebrin: positive, Plasticity: after_Plasticity, f0: eye_blink took 561.127s\n",
      "TIME: starting took 0.000s\n",
      "only open loop  False\n",
      "I_recorded eye_blink\n",
      "eye_blink\n",
      "eye_blink\n",
      "TIME: unfiltered: True, filtered: True, f0:eye_blink, Noise loaded took 17.826s\n",
      "eye_blink IO_OU_Copy\n",
      "eye_blink IO_OU_Copy added\n"
     ]
    },
    {
     "name": "stderr",
     "output_type": "stream",
     "text": [
      "WARNING    The NeuronGroup 'neurongroup' sets a threshold but neither a reset condition nor a refractory condition has been set. Did you forget either of those? If this was intended, set the reset argument to an empty string in order to avoid this warning. [brian2.groups.neurongroup.only_threshold]\n"
     ]
    },
    {
     "name": "stdout",
     "output_type": "stream",
     "text": [
      "TIME: about to run took 0.680s\n",
      "TIME: finished run, starting to save took 210.783s\n",
      "TIME: created save folders until filtered-unfiltered took 0.008s\n",
      "TIME: unfiltered but f0 is not 0 took 0.001s\n",
      "TIME: starting save took 0.000s\n",
      "TIME: Seed: closed_open_loops_diff_tau, Noise Gain: 1, Zebrin: negative, Plasticity: no_Plasticity, f0: eye_blink took 371.092s\n",
      "TIME: starting took 0.000s\n",
      "only open loop  False\n",
      "I_recorded eye_blink\n",
      "eye_blink\n",
      "eye_blink\n",
      "TIME: unfiltered: True, filtered: True, f0:eye_blink, Noise loaded took 17.824s\n",
      "eye_blink IO_OU_Copy\n",
      "eye_blink IO_OU_Copy added\n"
     ]
    },
    {
     "name": "stderr",
     "output_type": "stream",
     "text": [
      "WARNING    The NeuronGroup 'neurongroup' sets a threshold but neither a reset condition nor a refractory condition has been set. Did you forget either of those? If this was intended, set the reset argument to an empty string in order to avoid this warning. [brian2.groups.neurongroup.only_threshold]\n"
     ]
    },
    {
     "name": "stdout",
     "output_type": "stream",
     "text": [
      "TIME: about to run took 0.698s\n",
      "TIME: finished run, starting to save took 326.503s\n",
      "TIME: created save folders until filtered-unfiltered took 0.008s\n",
      "TIME: unfiltered but f0 is not 0 took 0.001s\n",
      "TIME: starting save took 0.000s\n",
      "TIME: Seed: closed_open_loops_diff_tau, Noise Gain: 1, Zebrin: negative, Plasticity: Plasticity, f0: eye_blink took 565.886s\n",
      "TIME: starting took 0.000s\n",
      "only open loop  False\n",
      "I_recorded eye_blink\n",
      "eye_blink\n",
      "eye_blink\n",
      "TIME: unfiltered: True, filtered: True, f0:eye_blink, Noise loaded took 17.763s\n",
      "after_Plasticity Plasticity\n",
      "eye_blink IO_OU_Copy\n",
      "eye_blink IO_OU_Copy added\n"
     ]
    },
    {
     "name": "stderr",
     "output_type": "stream",
     "text": [
      "WARNING    The NeuronGroup 'neurongroup' sets a threshold but neither a reset condition nor a refractory condition has been set. Did you forget either of those? If this was intended, set the reset argument to an empty string in order to avoid this warning. [brian2.groups.neurongroup.only_threshold]\n",
      "WARNING    't' is an internal variable of group 'neurongroup_8', but also exists in the run namespace with the value array([0.00000000e+00, 1.00000833e-03, 2.00001667e-03, ...,\n",
      "       1.19998000e+02, 1.19999000e+02, 1.20000000e+02]). The internal variable will be used. [brian2.groups.group.Group.resolve.resolution_conflict]\n"
     ]
    },
    {
     "name": "stdout",
     "output_type": "stream",
     "text": [
      "TIME: about to run took 202.459s\n",
      "TIME: finished run, starting to save took 209.255s\n",
      "TIME: created save folders until filtered-unfiltered took 0.008s\n",
      "TIME: unfiltered but f0 is not 0 took 0.019s\n",
      "TIME: starting save took 0.000s\n",
      "TIME: Seed: closed_open_loops_diff_tau, Noise Gain: 1, Zebrin: negative, Plasticity: after_Plasticity, f0: eye_blink took 562.548s\n",
      "TIME: starting took 0.000s\n",
      "only open loop  False\n",
      "I_recorded pulse\n",
      "pulse\n",
      "pulse\n",
      "TIME: unfiltered: True, filtered: True, f0:pulse, Noise loaded took 17.826s\n",
      "pulse IO_OU_Copy\n",
      "pulse IO_OU_Copy added\n"
     ]
    },
    {
     "name": "stderr",
     "output_type": "stream",
     "text": [
      "WARNING    The NeuronGroup 'neurongroup' sets a threshold but neither a reset condition nor a refractory condition has been set. Did you forget either of those? If this was intended, set the reset argument to an empty string in order to avoid this warning. [brian2.groups.neurongroup.only_threshold]\n"
     ]
    },
    {
     "name": "stdout",
     "output_type": "stream",
     "text": [
      "TIME: about to run took 0.691s\n",
      "TIME: finished run, starting to save took 208.561s\n",
      "TIME: created save folders until filtered-unfiltered took 0.008s\n",
      "Successfully created the directory /mnt/User_Data/UserData/eliasmfs/Cerebellar_Open_Closed_Loops/SlowData/Simulations/Networks/200PC_40DCN_40IO/Seed_closed_open_loops_diff_tau/120000ms/no_Plasticity/Zebrin_positive/Noise_gain_10/Noise_filtered_pulse \n",
      "TIME: unfiltered but f0 is not 0 took 0.004s\n",
      "Successfully created the directory /mnt/User_Data/UserData/eliasmfs/Cerebellar_Open_Closed_Loops/SlowData/Simulations/Networks/200PC_40DCN_40IO/Seed_closed_open_loops_diff_tau/120000ms/no_Plasticity/Zebrin_positive/Noise_gain_10/Noise_filtered_pulse/Figures \n",
      "Successfully created the directory /mnt/User_Data/UserData/eliasmfs/Cerebellar_Open_Closed_Loops/SlowData/Simulations/Networks/200PC_40DCN_40IO/Seed_closed_open_loops_diff_tau/120000ms/no_Plasticity/Zebrin_positive/Noise_gain_10/Noise_filtered_pulse/Output \n",
      "TIME: starting save took 0.000s\n",
      "TIME: Seed: closed_open_loops_diff_tau, Noise Gain: 1, Zebrin: positive, Plasticity: no_Plasticity, f0: pulse took 359.551s\n",
      "TIME: starting took 0.000s\n",
      "only open loop  False\n",
      "I_recorded pulse\n",
      "pulse\n",
      "pulse\n",
      "TIME: unfiltered: True, filtered: True, f0:pulse, Noise loaded took 17.827s\n",
      "pulse IO_OU_Copy\n",
      "pulse IO_OU_Copy added\n"
     ]
    },
    {
     "name": "stderr",
     "output_type": "stream",
     "text": [
      "WARNING    The NeuronGroup 'neurongroup' sets a threshold but neither a reset condition nor a refractory condition has been set. Did you forget either of those? If this was intended, set the reset argument to an empty string in order to avoid this warning. [brian2.groups.neurongroup.only_threshold]\n"
     ]
    },
    {
     "name": "stdout",
     "output_type": "stream",
     "text": [
      "TIME: about to run took 0.700s\n",
      "TIME: finished run, starting to save took 333.678s\n",
      "TIME: created save folders until filtered-unfiltered took 0.008s\n",
      "Successfully created the directory /mnt/User_Data/UserData/eliasmfs/Cerebellar_Open_Closed_Loops/SlowData/Simulations/Networks/200PC_40DCN_40IO/Seed_closed_open_loops_diff_tau/120000ms/Plasticity/Zebrin_positive/Noise_gain_10/Noise_filtered_pulse \n",
      "TIME: unfiltered but f0 is not 0 took 0.004s\n",
      "Successfully created the directory /mnt/User_Data/UserData/eliasmfs/Cerebellar_Open_Closed_Loops/SlowData/Simulations/Networks/200PC_40DCN_40IO/Seed_closed_open_loops_diff_tau/120000ms/Plasticity/Zebrin_positive/Noise_gain_10/Noise_filtered_pulse/Figures \n",
      "Successfully created the directory /mnt/User_Data/UserData/eliasmfs/Cerebellar_Open_Closed_Loops/SlowData/Simulations/Networks/200PC_40DCN_40IO/Seed_closed_open_loops_diff_tau/120000ms/Plasticity/Zebrin_positive/Noise_gain_10/Noise_filtered_pulse/Output \n",
      "TIME: starting save took 0.000s\n",
      "TIME: Seed: closed_open_loops_diff_tau, Noise Gain: 1, Zebrin: positive, Plasticity: Plasticity, f0: pulse took 575.750s\n",
      "TIME: starting took 0.000s\n",
      "only open loop  False\n",
      "I_recorded pulse\n",
      "pulse\n",
      "pulse\n",
      "TIME: unfiltered: True, filtered: True, f0:pulse, Noise loaded took 17.825s\n",
      "after_Plasticity Plasticity\n",
      "pulse IO_OU_Copy\n",
      "pulse IO_OU_Copy added\n"
     ]
    },
    {
     "name": "stderr",
     "output_type": "stream",
     "text": [
      "WARNING    The NeuronGroup 'neurongroup' sets a threshold but neither a reset condition nor a refractory condition has been set. Did you forget either of those? If this was intended, set the reset argument to an empty string in order to avoid this warning. [brian2.groups.neurongroup.only_threshold]\n"
     ]
    },
    {
     "name": "stdout",
     "output_type": "stream",
     "text": [
      "TIME: about to run took 202.171s\n",
      "TIME: finished run, starting to save took 211.884s\n",
      "TIME: created save folders until filtered-unfiltered took 0.008s\n",
      "Successfully created the directory /mnt/User_Data/UserData/eliasmfs/Cerebellar_Open_Closed_Loops/SlowData/Simulations/Networks/200PC_40DCN_40IO/Seed_closed_open_loops_diff_tau/120000ms/after_Plasticity/Zebrin_positive/Noise_gain_10/Noise_filtered_pulse \n",
      "TIME: unfiltered but f0 is not 0 took 0.004s\n",
      "Successfully created the directory /mnt/User_Data/UserData/eliasmfs/Cerebellar_Open_Closed_Loops/SlowData/Simulations/Networks/200PC_40DCN_40IO/Seed_closed_open_loops_diff_tau/120000ms/after_Plasticity/Zebrin_positive/Noise_gain_10/Noise_filtered_pulse/Figures \n",
      "Successfully created the directory /mnt/User_Data/UserData/eliasmfs/Cerebellar_Open_Closed_Loops/SlowData/Simulations/Networks/200PC_40DCN_40IO/Seed_closed_open_loops_diff_tau/120000ms/after_Plasticity/Zebrin_positive/Noise_gain_10/Noise_filtered_pulse/Output \n",
      "TIME: starting save took 0.000s\n",
      "TIME: Seed: closed_open_loops_diff_tau, Noise Gain: 1, Zebrin: positive, Plasticity: after_Plasticity, f0: pulse took 566.200s\n",
      "TIME: starting took 0.000s\n",
      "only open loop  False\n",
      "I_recorded pulse\n",
      "pulse\n",
      "pulse\n",
      "TIME: unfiltered: True, filtered: True, f0:pulse, Noise loaded took 17.822s\n",
      "pulse IO_OU_Copy\n",
      "pulse IO_OU_Copy added\n"
     ]
    },
    {
     "name": "stderr",
     "output_type": "stream",
     "text": [
      "WARNING    The NeuronGroup 'neurongroup' sets a threshold but neither a reset condition nor a refractory condition has been set. Did you forget either of those? If this was intended, set the reset argument to an empty string in order to avoid this warning. [brian2.groups.neurongroup.only_threshold]\n"
     ]
    },
    {
     "name": "stdout",
     "output_type": "stream",
     "text": [
      "TIME: about to run took 0.684s\n",
      "TIME: finished run, starting to save took 209.318s\n",
      "TIME: created save folders until filtered-unfiltered took 0.009s\n",
      "Successfully created the directory /mnt/User_Data/UserData/eliasmfs/Cerebellar_Open_Closed_Loops/SlowData/Simulations/Networks/200PC_40DCN_40IO/Seed_closed_open_loops_diff_tau/120000ms/no_Plasticity/Zebrin_negative/Noise_gain_10/Noise_filtered_pulse \n",
      "TIME: unfiltered but f0 is not 0 took 0.022s\n",
      "Successfully created the directory /mnt/User_Data/UserData/eliasmfs/Cerebellar_Open_Closed_Loops/SlowData/Simulations/Networks/200PC_40DCN_40IO/Seed_closed_open_loops_diff_tau/120000ms/no_Plasticity/Zebrin_negative/Noise_gain_10/Noise_filtered_pulse/Figures \n",
      "Successfully created the directory /mnt/User_Data/UserData/eliasmfs/Cerebellar_Open_Closed_Loops/SlowData/Simulations/Networks/200PC_40DCN_40IO/Seed_closed_open_loops_diff_tau/120000ms/no_Plasticity/Zebrin_negative/Noise_gain_10/Noise_filtered_pulse/Output \n",
      "TIME: starting save took 0.000s\n",
      "TIME: Seed: closed_open_loops_diff_tau, Noise Gain: 1, Zebrin: negative, Plasticity: no_Plasticity, f0: pulse took 368.371s\n",
      "TIME: starting took 0.000s\n",
      "only open loop  False\n",
      "I_recorded pulse\n",
      "pulse\n",
      "pulse\n",
      "TIME: unfiltered: True, filtered: True, f0:pulse, Noise loaded took 17.825s\n",
      "pulse IO_OU_Copy\n",
      "pulse IO_OU_Copy added\n"
     ]
    },
    {
     "name": "stderr",
     "output_type": "stream",
     "text": [
      "WARNING    The NeuronGroup 'neurongroup' sets a threshold but neither a reset condition nor a refractory condition has been set. Did you forget either of those? If this was intended, set the reset argument to an empty string in order to avoid this warning. [brian2.groups.neurongroup.only_threshold]\n"
     ]
    },
    {
     "name": "stdout",
     "output_type": "stream",
     "text": [
      "TIME: about to run took 0.691s\n",
      "TIME: finished run, starting to save took 334.802s\n",
      "TIME: created save folders until filtered-unfiltered took 0.008s\n",
      "Successfully created the directory /mnt/User_Data/UserData/eliasmfs/Cerebellar_Open_Closed_Loops/SlowData/Simulations/Networks/200PC_40DCN_40IO/Seed_closed_open_loops_diff_tau/120000ms/Plasticity/Zebrin_negative/Noise_gain_10/Noise_filtered_pulse \n",
      "TIME: unfiltered but f0 is not 0 took 0.004s\n",
      "Successfully created the directory /mnt/User_Data/UserData/eliasmfs/Cerebellar_Open_Closed_Loops/SlowData/Simulations/Networks/200PC_40DCN_40IO/Seed_closed_open_loops_diff_tau/120000ms/Plasticity/Zebrin_negative/Noise_gain_10/Noise_filtered_pulse/Figures \n",
      "Successfully created the directory /mnt/User_Data/UserData/eliasmfs/Cerebellar_Open_Closed_Loops/SlowData/Simulations/Networks/200PC_40DCN_40IO/Seed_closed_open_loops_diff_tau/120000ms/Plasticity/Zebrin_negative/Noise_gain_10/Noise_filtered_pulse/Output \n",
      "TIME: starting save took 0.000s\n",
      "TIME: Seed: closed_open_loops_diff_tau, Noise Gain: 1, Zebrin: negative, Plasticity: Plasticity, f0: pulse took 574.083s\n",
      "TIME: starting took 0.000s\n",
      "only open loop  False\n",
      "I_recorded pulse\n",
      "pulse\n",
      "pulse\n",
      "TIME: unfiltered: True, filtered: True, f0:pulse, Noise loaded took 17.758s\n",
      "after_Plasticity Plasticity\n",
      "pulse IO_OU_Copy\n",
      "pulse IO_OU_Copy added\n"
     ]
    },
    {
     "name": "stderr",
     "output_type": "stream",
     "text": [
      "WARNING    The NeuronGroup 'neurongroup' sets a threshold but neither a reset condition nor a refractory condition has been set. Did you forget either of those? If this was intended, set the reset argument to an empty string in order to avoid this warning. [brian2.groups.neurongroup.only_threshold]\n"
     ]
    },
    {
     "name": "stdout",
     "output_type": "stream",
     "text": [
      "TIME: about to run took 202.150s\n",
      "TIME: finished run, starting to save took 208.733s\n",
      "TIME: created save folders until filtered-unfiltered took 0.008s\n",
      "Successfully created the directory /mnt/User_Data/UserData/eliasmfs/Cerebellar_Open_Closed_Loops/SlowData/Simulations/Networks/200PC_40DCN_40IO/Seed_closed_open_loops_diff_tau/120000ms/after_Plasticity/Zebrin_negative/Noise_gain_10/Noise_filtered_pulse \n",
      "TIME: unfiltered but f0 is not 0 took 0.004s\n",
      "Successfully created the directory /mnt/User_Data/UserData/eliasmfs/Cerebellar_Open_Closed_Loops/SlowData/Simulations/Networks/200PC_40DCN_40IO/Seed_closed_open_loops_diff_tau/120000ms/after_Plasticity/Zebrin_negative/Noise_gain_10/Noise_filtered_pulse/Figures \n",
      "Successfully created the directory /mnt/User_Data/UserData/eliasmfs/Cerebellar_Open_Closed_Loops/SlowData/Simulations/Networks/200PC_40DCN_40IO/Seed_closed_open_loops_diff_tau/120000ms/after_Plasticity/Zebrin_negative/Noise_gain_10/Noise_filtered_pulse/Output \n",
      "TIME: starting save took 0.000s\n",
      "TIME: Seed: closed_open_loops_diff_tau, Noise Gain: 1, Zebrin: negative, Plasticity: after_Plasticity, f0: pulse took 562.678s\n",
      "TIME: starting took 0.000s\n",
      "only open loop  True\n",
      "I_recorded eye_blink_open\n",
      "eye_blink_open\n",
      "eye_blink_open\n",
      "TIME: unfiltered: True, filtered: True, f0:eye_blink_open, Noise loaded took 17.822s\n",
      "eye_blink_open IO_OU_Copy\n",
      "eye_blink_open IO_OU_Copy added\n"
     ]
    },
    {
     "name": "stderr",
     "output_type": "stream",
     "text": [
      "WARNING    The NeuronGroup 'neurongroup' sets a threshold but neither a reset condition nor a refractory condition has been set. Did you forget either of those? If this was intended, set the reset argument to an empty string in order to avoid this warning. [brian2.groups.neurongroup.only_threshold]\n"
     ]
    },
    {
     "name": "stdout",
     "output_type": "stream",
     "text": [
      "open_loop -0.8999999999999999\n",
      "TIME: about to run took 0.658s\n",
      "TIME: finished run, starting to save took 208.072s\n",
      "TIME: created save folders until filtered-unfiltered took 0.008s\n",
      "Successfully created the directory /mnt/User_Data/UserData/eliasmfs/Cerebellar_Open_Closed_Loops/SlowData/Simulations/Networks/200PC_40DCN_40IO/Seed_closed_open_loops_diff_tau/120000ms/no_Plasticity/Zebrin_positive/Noise_gain_10/Noise_filtered_eye_blink_open \n",
      "TIME: unfiltered but f0 is not 0 took 0.026s\n",
      "Successfully created the directory /mnt/User_Data/UserData/eliasmfs/Cerebellar_Open_Closed_Loops/SlowData/Simulations/Networks/200PC_40DCN_40IO/Seed_closed_open_loops_diff_tau/120000ms/no_Plasticity/Zebrin_positive/Noise_gain_10/Noise_filtered_eye_blink_open/Figures \n",
      "Successfully created the directory /mnt/User_Data/UserData/eliasmfs/Cerebellar_Open_Closed_Loops/SlowData/Simulations/Networks/200PC_40DCN_40IO/Seed_closed_open_loops_diff_tau/120000ms/no_Plasticity/Zebrin_positive/Noise_gain_10/Noise_filtered_eye_blink_open/Output \n",
      "TIME: starting save took 0.000s\n",
      "TIME: Seed: closed_open_loops_diff_tau, Noise Gain: 1, Zebrin: positive, Plasticity: no_Plasticity, f0: eye_blink_open took 359.880s\n",
      "TIME: starting took 0.000s\n",
      "only open loop  True\n",
      "I_recorded eye_blink_open\n",
      "eye_blink_open\n",
      "eye_blink_open\n",
      "TIME: unfiltered: True, filtered: True, f0:eye_blink_open, Noise loaded took 17.822s\n",
      "eye_blink_open IO_OU_Copy\n",
      "eye_blink_open IO_OU_Copy added\n"
     ]
    },
    {
     "name": "stderr",
     "output_type": "stream",
     "text": [
      "WARNING    The NeuronGroup 'neurongroup' sets a threshold but neither a reset condition nor a refractory condition has been set. Did you forget either of those? If this was intended, set the reset argument to an empty string in order to avoid this warning. [brian2.groups.neurongroup.only_threshold]\n"
     ]
    },
    {
     "name": "stdout",
     "output_type": "stream",
     "text": [
      "open_loop -0.8999999999999999\n",
      "TIME: about to run took 0.665s\n",
      "TIME: finished run, starting to save took 329.601s\n",
      "TIME: created save folders until filtered-unfiltered took 0.009s\n",
      "Successfully created the directory /mnt/User_Data/UserData/eliasmfs/Cerebellar_Open_Closed_Loops/SlowData/Simulations/Networks/200PC_40DCN_40IO/Seed_closed_open_loops_diff_tau/120000ms/Plasticity/Zebrin_positive/Noise_gain_10/Noise_filtered_eye_blink_open \n",
      "TIME: unfiltered but f0 is not 0 took 0.021s\n",
      "Successfully created the directory /mnt/User_Data/UserData/eliasmfs/Cerebellar_Open_Closed_Loops/SlowData/Simulations/Networks/200PC_40DCN_40IO/Seed_closed_open_loops_diff_tau/120000ms/Plasticity/Zebrin_positive/Noise_gain_10/Noise_filtered_eye_blink_open/Figures \n",
      "Successfully created the directory /mnt/User_Data/UserData/eliasmfs/Cerebellar_Open_Closed_Loops/SlowData/Simulations/Networks/200PC_40DCN_40IO/Seed_closed_open_loops_diff_tau/120000ms/Plasticity/Zebrin_positive/Noise_gain_10/Noise_filtered_eye_blink_open/Output \n",
      "TIME: starting save took 0.000s\n",
      "TIME: Seed: closed_open_loops_diff_tau, Noise Gain: 1, Zebrin: positive, Plasticity: Plasticity, f0: eye_blink_open took 569.068s\n",
      "TIME: starting took 0.000s\n",
      "only open loop  True\n",
      "I_recorded eye_blink_open\n",
      "eye_blink_open\n",
      "eye_blink_open\n",
      "TIME: unfiltered: True, filtered: True, f0:eye_blink_open, Noise loaded took 17.865s\n",
      "after_Plasticity Plasticity\n",
      "eye_blink_open IO_OU_Copy\n",
      "eye_blink_open IO_OU_Copy added\n"
     ]
    },
    {
     "name": "stderr",
     "output_type": "stream",
     "text": [
      "WARNING    The NeuronGroup 'neurongroup' sets a threshold but neither a reset condition nor a refractory condition has been set. Did you forget either of those? If this was intended, set the reset argument to an empty string in order to avoid this warning. [brian2.groups.neurongroup.only_threshold]\n"
     ]
    },
    {
     "name": "stdout",
     "output_type": "stream",
     "text": [
      "open_loop -0.8999999999999999\n",
      "TIME: about to run took 202.038s\n",
      "TIME: finished run, starting to save took 205.536s\n",
      "TIME: created save folders until filtered-unfiltered took 0.009s\n",
      "Successfully created the directory /mnt/User_Data/UserData/eliasmfs/Cerebellar_Open_Closed_Loops/SlowData/Simulations/Networks/200PC_40DCN_40IO/Seed_closed_open_loops_diff_tau/120000ms/after_Plasticity/Zebrin_positive/Noise_gain_10/Noise_filtered_eye_blink_open \n",
      "TIME: unfiltered but f0 is not 0 took 0.022s\n",
      "Successfully created the directory /mnt/User_Data/UserData/eliasmfs/Cerebellar_Open_Closed_Loops/SlowData/Simulations/Networks/200PC_40DCN_40IO/Seed_closed_open_loops_diff_tau/120000ms/after_Plasticity/Zebrin_positive/Noise_gain_10/Noise_filtered_eye_blink_open/Figures \n",
      "Successfully created the directory /mnt/User_Data/UserData/eliasmfs/Cerebellar_Open_Closed_Loops/SlowData/Simulations/Networks/200PC_40DCN_40IO/Seed_closed_open_loops_diff_tau/120000ms/after_Plasticity/Zebrin_positive/Noise_gain_10/Noise_filtered_eye_blink_open/Output \n",
      "TIME: starting save took 0.000s\n",
      "TIME: Seed: closed_open_loops_diff_tau, Noise Gain: 1, Zebrin: positive, Plasticity: after_Plasticity, f0: eye_blink_open took 559.214s\n",
      "TIME: starting took 0.000s\n",
      "only open loop  True\n",
      "I_recorded eye_blink_open\n",
      "eye_blink_open\n",
      "eye_blink_open\n",
      "TIME: unfiltered: True, filtered: True, f0:eye_blink_open, Noise loaded took 17.888s\n",
      "eye_blink_open IO_OU_Copy\n",
      "eye_blink_open IO_OU_Copy added\n"
     ]
    },
    {
     "name": "stderr",
     "output_type": "stream",
     "text": [
      "WARNING    The NeuronGroup 'neurongroup' sets a threshold but neither a reset condition nor a refractory condition has been set. Did you forget either of those? If this was intended, set the reset argument to an empty string in order to avoid this warning. [brian2.groups.neurongroup.only_threshold]\n"
     ]
    },
    {
     "name": "stdout",
     "output_type": "stream",
     "text": [
      "open_loop -1.2\n",
      "TIME: about to run took 0.665s\n",
      "TIME: finished run, starting to save took 205.552s\n",
      "TIME: created save folders until filtered-unfiltered took 0.008s\n",
      "Successfully created the directory /mnt/User_Data/UserData/eliasmfs/Cerebellar_Open_Closed_Loops/SlowData/Simulations/Networks/200PC_40DCN_40IO/Seed_closed_open_loops_diff_tau/120000ms/no_Plasticity/Zebrin_negative/Noise_gain_10/Noise_filtered_eye_blink_open \n",
      "TIME: unfiltered but f0 is not 0 took 0.019s\n",
      "Successfully created the directory /mnt/User_Data/UserData/eliasmfs/Cerebellar_Open_Closed_Loops/SlowData/Simulations/Networks/200PC_40DCN_40IO/Seed_closed_open_loops_diff_tau/120000ms/no_Plasticity/Zebrin_negative/Noise_gain_10/Noise_filtered_eye_blink_open/Figures \n",
      "Successfully created the directory /mnt/User_Data/UserData/eliasmfs/Cerebellar_Open_Closed_Loops/SlowData/Simulations/Networks/200PC_40DCN_40IO/Seed_closed_open_loops_diff_tau/120000ms/no_Plasticity/Zebrin_negative/Noise_gain_10/Noise_filtered_eye_blink_open/Output \n",
      "TIME: starting save took 0.000s\n",
      "TIME: Seed: closed_open_loops_diff_tau, Noise Gain: 1, Zebrin: negative, Plasticity: no_Plasticity, f0: eye_blink_open took 364.311s\n",
      "TIME: starting took 0.000s\n",
      "only open loop  True\n",
      "I_recorded eye_blink_open\n",
      "eye_blink_open\n",
      "eye_blink_open\n",
      "TIME: unfiltered: True, filtered: True, f0:eye_blink_open, Noise loaded took 17.827s\n",
      "eye_blink_open IO_OU_Copy\n",
      "eye_blink_open IO_OU_Copy added\n"
     ]
    },
    {
     "name": "stderr",
     "output_type": "stream",
     "text": [
      "WARNING    The NeuronGroup 'neurongroup' sets a threshold but neither a reset condition nor a refractory condition has been set. Did you forget either of those? If this was intended, set the reset argument to an empty string in order to avoid this warning. [brian2.groups.neurongroup.only_threshold]\n"
     ]
    },
    {
     "name": "stdout",
     "output_type": "stream",
     "text": [
      "open_loop -1.2\n",
      "TIME: about to run took 0.667s\n",
      "TIME: finished run, starting to save took 332.839s\n",
      "TIME: created save folders until filtered-unfiltered took 0.008s\n",
      "Successfully created the directory /mnt/User_Data/UserData/eliasmfs/Cerebellar_Open_Closed_Loops/SlowData/Simulations/Networks/200PC_40DCN_40IO/Seed_closed_open_loops_diff_tau/120000ms/Plasticity/Zebrin_negative/Noise_gain_10/Noise_filtered_eye_blink_open \n",
      "TIME: unfiltered but f0 is not 0 took 0.004s\n",
      "Successfully created the directory /mnt/User_Data/UserData/eliasmfs/Cerebellar_Open_Closed_Loops/SlowData/Simulations/Networks/200PC_40DCN_40IO/Seed_closed_open_loops_diff_tau/120000ms/Plasticity/Zebrin_negative/Noise_gain_10/Noise_filtered_eye_blink_open/Figures \n",
      "Successfully created the directory /mnt/User_Data/UserData/eliasmfs/Cerebellar_Open_Closed_Loops/SlowData/Simulations/Networks/200PC_40DCN_40IO/Seed_closed_open_loops_diff_tau/120000ms/Plasticity/Zebrin_negative/Noise_gain_10/Noise_filtered_eye_blink_open/Output \n",
      "TIME: starting save took 0.000s\n",
      "TIME: Seed: closed_open_loops_diff_tau, Noise Gain: 1, Zebrin: negative, Plasticity: Plasticity, f0: eye_blink_open took 572.498s\n",
      "TIME: starting took 0.000s\n",
      "only open loop  True\n",
      "I_recorded eye_blink_open\n",
      "eye_blink_open\n",
      "eye_blink_open\n",
      "TIME: unfiltered: True, filtered: True, f0:eye_blink_open, Noise loaded took 17.868s\n",
      "after_Plasticity Plasticity\n",
      "eye_blink_open IO_OU_Copy\n",
      "eye_blink_open IO_OU_Copy added\n"
     ]
    },
    {
     "name": "stderr",
     "output_type": "stream",
     "text": [
      "WARNING    The NeuronGroup 'neurongroup' sets a threshold but neither a reset condition nor a refractory condition has been set. Did you forget either of those? If this was intended, set the reset argument to an empty string in order to avoid this warning. [brian2.groups.neurongroup.only_threshold]\n",
      "WARNING    't' is an internal variable of group 'neurongroup_7', but also exists in the run namespace with the value array([0.00000000e+00, 1.00000833e-03, 2.00001667e-03, ...,\n",
      "       1.19998000e+02, 1.19999000e+02, 1.20000000e+02]). The internal variable will be used. [brian2.groups.group.Group.resolve.resolution_conflict]\n"
     ]
    },
    {
     "name": "stdout",
     "output_type": "stream",
     "text": [
      "open_loop -1.2\n",
      "TIME: about to run took 202.233s\n",
      "TIME: finished run, starting to save took 205.998s\n",
      "TIME: created save folders until filtered-unfiltered took 0.008s\n",
      "Successfully created the directory /mnt/User_Data/UserData/eliasmfs/Cerebellar_Open_Closed_Loops/SlowData/Simulations/Networks/200PC_40DCN_40IO/Seed_closed_open_loops_diff_tau/120000ms/after_Plasticity/Zebrin_negative/Noise_gain_10/Noise_filtered_eye_blink_open \n",
      "TIME: unfiltered but f0 is not 0 took 0.022s\n",
      "Successfully created the directory /mnt/User_Data/UserData/eliasmfs/Cerebellar_Open_Closed_Loops/SlowData/Simulations/Networks/200PC_40DCN_40IO/Seed_closed_open_loops_diff_tau/120000ms/after_Plasticity/Zebrin_negative/Noise_gain_10/Noise_filtered_eye_blink_open/Figures \n",
      "Successfully created the directory /mnt/User_Data/UserData/eliasmfs/Cerebellar_Open_Closed_Loops/SlowData/Simulations/Networks/200PC_40DCN_40IO/Seed_closed_open_loops_diff_tau/120000ms/after_Plasticity/Zebrin_negative/Noise_gain_10/Noise_filtered_eye_blink_open/Output \n",
      "TIME: starting save took 0.000s\n",
      "TIME: Seed: closed_open_loops_diff_tau, Noise Gain: 1, Zebrin: negative, Plasticity: after_Plasticity, f0: eye_blink_open took 559.561s\n",
      "TIME: starting took 0.000s\n",
      "only open loop  True\n",
      "I_recorded pulse_open\n",
      "pulse_open\n",
      "pulse_open\n",
      "TIME: unfiltered: True, filtered: True, f0:pulse_open, Noise loaded took 17.829s\n",
      "pulse_open IO_OU_Copy\n",
      "pulse_open IO_OU_Copy added\n"
     ]
    },
    {
     "name": "stderr",
     "output_type": "stream",
     "text": [
      "WARNING    The NeuronGroup 'neurongroup' sets a threshold but neither a reset condition nor a refractory condition has been set. Did you forget either of those? If this was intended, set the reset argument to an empty string in order to avoid this warning. [brian2.groups.neurongroup.only_threshold]\n"
     ]
    },
    {
     "name": "stdout",
     "output_type": "stream",
     "text": [
      "open_loop -0.8999999999999999\n",
      "TIME: about to run took 0.661s\n",
      "TIME: finished run, starting to save took 205.117s\n",
      "TIME: created save folders until filtered-unfiltered took 0.009s\n",
      "Successfully created the directory /mnt/User_Data/UserData/eliasmfs/Cerebellar_Open_Closed_Loops/SlowData/Simulations/Networks/200PC_40DCN_40IO/Seed_closed_open_loops_diff_tau/120000ms/no_Plasticity/Zebrin_positive/Noise_gain_10/Noise_filtered_pulse_open \n",
      "TIME: unfiltered but f0 is not 0 took 0.021s\n",
      "Successfully created the directory /mnt/User_Data/UserData/eliasmfs/Cerebellar_Open_Closed_Loops/SlowData/Simulations/Networks/200PC_40DCN_40IO/Seed_closed_open_loops_diff_tau/120000ms/no_Plasticity/Zebrin_positive/Noise_gain_10/Noise_filtered_pulse_open/Figures \n",
      "Successfully created the directory /mnt/User_Data/UserData/eliasmfs/Cerebellar_Open_Closed_Loops/SlowData/Simulations/Networks/200PC_40DCN_40IO/Seed_closed_open_loops_diff_tau/120000ms/no_Plasticity/Zebrin_positive/Noise_gain_10/Noise_filtered_pulse_open/Output \n",
      "TIME: starting save took 0.000s\n",
      "TIME: Seed: closed_open_loops_diff_tau, Noise Gain: 1, Zebrin: positive, Plasticity: no_Plasticity, f0: pulse_open took 356.857s\n",
      "TIME: starting took 0.000s\n",
      "only open loop  True\n",
      "I_recorded pulse_open\n",
      "pulse_open\n",
      "pulse_open\n",
      "TIME: unfiltered: True, filtered: True, f0:pulse_open, Noise loaded took 17.827s\n",
      "pulse_open IO_OU_Copy\n",
      "pulse_open IO_OU_Copy added\n"
     ]
    },
    {
     "name": "stderr",
     "output_type": "stream",
     "text": [
      "WARNING    The NeuronGroup 'neurongroup' sets a threshold but neither a reset condition nor a refractory condition has been set. Did you forget either of those? If this was intended, set the reset argument to an empty string in order to avoid this warning. [brian2.groups.neurongroup.only_threshold]\n"
     ]
    },
    {
     "name": "stdout",
     "output_type": "stream",
     "text": [
      "open_loop -0.8999999999999999\n",
      "TIME: about to run took 0.665s\n",
      "TIME: finished run, starting to save took 334.187s\n",
      "TIME: created save folders until filtered-unfiltered took 0.008s\n",
      "Successfully created the directory /mnt/User_Data/UserData/eliasmfs/Cerebellar_Open_Closed_Loops/SlowData/Simulations/Networks/200PC_40DCN_40IO/Seed_closed_open_loops_diff_tau/120000ms/Plasticity/Zebrin_positive/Noise_gain_10/Noise_filtered_pulse_open \n",
      "TIME: unfiltered but f0 is not 0 took 0.004s\n",
      "Successfully created the directory /mnt/User_Data/UserData/eliasmfs/Cerebellar_Open_Closed_Loops/SlowData/Simulations/Networks/200PC_40DCN_40IO/Seed_closed_open_loops_diff_tau/120000ms/Plasticity/Zebrin_positive/Noise_gain_10/Noise_filtered_pulse_open/Figures \n",
      "Successfully created the directory /mnt/User_Data/UserData/eliasmfs/Cerebellar_Open_Closed_Loops/SlowData/Simulations/Networks/200PC_40DCN_40IO/Seed_closed_open_loops_diff_tau/120000ms/Plasticity/Zebrin_positive/Noise_gain_10/Noise_filtered_pulse_open/Output \n",
      "TIME: starting save took 0.000s\n",
      "TIME: Seed: closed_open_loops_diff_tau, Noise Gain: 1, Zebrin: positive, Plasticity: Plasticity, f0: pulse_open took 574.810s\n",
      "TIME: starting took 0.000s\n",
      "only open loop  True\n",
      "I_recorded pulse_open\n",
      "pulse_open\n",
      "pulse_open\n",
      "TIME: unfiltered: True, filtered: True, f0:pulse_open, Noise loaded took 17.827s\n",
      "after_Plasticity Plasticity\n",
      "pulse_open IO_OU_Copy\n",
      "pulse_open IO_OU_Copy added\n"
     ]
    },
    {
     "name": "stderr",
     "output_type": "stream",
     "text": [
      "WARNING    The NeuronGroup 'neurongroup' sets a threshold but neither a reset condition nor a refractory condition has been set. Did you forget either of those? If this was intended, set the reset argument to an empty string in order to avoid this warning. [brian2.groups.neurongroup.only_threshold]\n"
     ]
    },
    {
     "name": "stdout",
     "output_type": "stream",
     "text": [
      "open_loop -0.8999999999999999\n",
      "TIME: about to run took 202.401s\n",
      "TIME: finished run, starting to save took 212.325s\n",
      "TIME: created save folders until filtered-unfiltered took 0.008s\n",
      "Successfully created the directory /mnt/User_Data/UserData/eliasmfs/Cerebellar_Open_Closed_Loops/SlowData/Simulations/Networks/200PC_40DCN_40IO/Seed_closed_open_loops_diff_tau/120000ms/after_Plasticity/Zebrin_positive/Noise_gain_10/Noise_filtered_pulse_open \n",
      "TIME: unfiltered but f0 is not 0 took 0.019s\n",
      "Successfully created the directory /mnt/User_Data/UserData/eliasmfs/Cerebellar_Open_Closed_Loops/SlowData/Simulations/Networks/200PC_40DCN_40IO/Seed_closed_open_loops_diff_tau/120000ms/after_Plasticity/Zebrin_positive/Noise_gain_10/Noise_filtered_pulse_open/Figures \n",
      "Successfully created the directory /mnt/User_Data/UserData/eliasmfs/Cerebellar_Open_Closed_Loops/SlowData/Simulations/Networks/200PC_40DCN_40IO/Seed_closed_open_loops_diff_tau/120000ms/after_Plasticity/Zebrin_positive/Noise_gain_10/Noise_filtered_pulse_open/Output \n",
      "TIME: starting save took 0.000s\n",
      "TIME: Seed: closed_open_loops_diff_tau, Noise Gain: 1, Zebrin: positive, Plasticity: after_Plasticity, f0: pulse_open took 568.106s\n",
      "TIME: starting took 0.000s\n",
      "only open loop  True\n",
      "I_recorded pulse_open\n",
      "pulse_open\n",
      "pulse_open\n",
      "TIME: unfiltered: True, filtered: True, f0:pulse_open, Noise loaded took 17.823s\n",
      "pulse_open IO_OU_Copy\n",
      "pulse_open IO_OU_Copy added\n"
     ]
    },
    {
     "name": "stderr",
     "output_type": "stream",
     "text": [
      "WARNING    The NeuronGroup 'neurongroup' sets a threshold but neither a reset condition nor a refractory condition has been set. Did you forget either of those? If this was intended, set the reset argument to an empty string in order to avoid this warning. [brian2.groups.neurongroup.only_threshold]\n"
     ]
    },
    {
     "name": "stdout",
     "output_type": "stream",
     "text": [
      "open_loop -1.2\n",
      "TIME: about to run took 0.657s\n",
      "TIME: finished run, starting to save took 204.298s\n",
      "TIME: created save folders until filtered-unfiltered took 0.008s\n",
      "Successfully created the directory /mnt/User_Data/UserData/eliasmfs/Cerebellar_Open_Closed_Loops/SlowData/Simulations/Networks/200PC_40DCN_40IO/Seed_closed_open_loops_diff_tau/120000ms/no_Plasticity/Zebrin_negative/Noise_gain_10/Noise_filtered_pulse_open \n",
      "TIME: unfiltered but f0 is not 0 took 0.014s\n",
      "Successfully created the directory /mnt/User_Data/UserData/eliasmfs/Cerebellar_Open_Closed_Loops/SlowData/Simulations/Networks/200PC_40DCN_40IO/Seed_closed_open_loops_diff_tau/120000ms/no_Plasticity/Zebrin_negative/Noise_gain_10/Noise_filtered_pulse_open/Figures \n",
      "Successfully created the directory /mnt/User_Data/UserData/eliasmfs/Cerebellar_Open_Closed_Loops/SlowData/Simulations/Networks/200PC_40DCN_40IO/Seed_closed_open_loops_diff_tau/120000ms/no_Plasticity/Zebrin_negative/Noise_gain_10/Noise_filtered_pulse_open/Output \n",
      "TIME: starting save took 0.000s\n",
      "TIME: Seed: closed_open_loops_diff_tau, Noise Gain: 1, Zebrin: negative, Plasticity: no_Plasticity, f0: pulse_open took 363.579s\n",
      "TIME: starting took 0.000s\n",
      "only open loop  True\n",
      "I_recorded pulse_open\n",
      "pulse_open\n",
      "pulse_open\n",
      "TIME: unfiltered: True, filtered: True, f0:pulse_open, Noise loaded took 17.823s\n",
      "pulse_open IO_OU_Copy\n",
      "pulse_open IO_OU_Copy added\n"
     ]
    },
    {
     "name": "stderr",
     "output_type": "stream",
     "text": [
      "WARNING    The NeuronGroup 'neurongroup' sets a threshold but neither a reset condition nor a refractory condition has been set. Did you forget either of those? If this was intended, set the reset argument to an empty string in order to avoid this warning. [brian2.groups.neurongroup.only_threshold]\n"
     ]
    },
    {
     "name": "stdout",
     "output_type": "stream",
     "text": [
      "open_loop -1.2\n",
      "TIME: about to run took 0.670s\n",
      "TIME: finished run, starting to save took 334.601s\n",
      "TIME: created save folders until filtered-unfiltered took 0.008s\n",
      "Successfully created the directory /mnt/User_Data/UserData/eliasmfs/Cerebellar_Open_Closed_Loops/SlowData/Simulations/Networks/200PC_40DCN_40IO/Seed_closed_open_loops_diff_tau/120000ms/Plasticity/Zebrin_negative/Noise_gain_10/Noise_filtered_pulse_open \n",
      "TIME: unfiltered but f0 is not 0 took 0.018s\n",
      "Successfully created the directory /mnt/User_Data/UserData/eliasmfs/Cerebellar_Open_Closed_Loops/SlowData/Simulations/Networks/200PC_40DCN_40IO/Seed_closed_open_loops_diff_tau/120000ms/Plasticity/Zebrin_negative/Noise_gain_10/Noise_filtered_pulse_open/Figures \n",
      "Successfully created the directory /mnt/User_Data/UserData/eliasmfs/Cerebellar_Open_Closed_Loops/SlowData/Simulations/Networks/200PC_40DCN_40IO/Seed_closed_open_loops_diff_tau/120000ms/Plasticity/Zebrin_negative/Noise_gain_10/Noise_filtered_pulse_open/Output \n",
      "TIME: starting save took 0.000s\n",
      "TIME: Seed: closed_open_loops_diff_tau, Noise Gain: 1, Zebrin: negative, Plasticity: Plasticity, f0: pulse_open took 575.563s\n",
      "TIME: starting took 0.000s\n",
      "only open loop  True\n",
      "I_recorded pulse_open\n",
      "pulse_open\n",
      "pulse_open\n",
      "TIME: unfiltered: True, filtered: True, f0:pulse_open, Noise loaded took 17.827s\n",
      "after_Plasticity Plasticity\n",
      "pulse_open IO_OU_Copy\n",
      "pulse_open IO_OU_Copy added\n"
     ]
    },
    {
     "name": "stderr",
     "output_type": "stream",
     "text": [
      "WARNING    The NeuronGroup 'neurongroup' sets a threshold but neither a reset condition nor a refractory condition has been set. Did you forget either of those? If this was intended, set the reset argument to an empty string in order to avoid this warning. [brian2.groups.neurongroup.only_threshold]\n"
     ]
    },
    {
     "name": "stdout",
     "output_type": "stream",
     "text": [
      "open_loop -1.2\n",
      "TIME: about to run took 202.144s\n",
      "TIME: finished run, starting to save took 204.908s\n",
      "TIME: created save folders until filtered-unfiltered took 0.008s\n",
      "Successfully created the directory /mnt/User_Data/UserData/eliasmfs/Cerebellar_Open_Closed_Loops/SlowData/Simulations/Networks/200PC_40DCN_40IO/Seed_closed_open_loops_diff_tau/120000ms/after_Plasticity/Zebrin_negative/Noise_gain_10/Noise_filtered_pulse_open \n",
      "TIME: unfiltered but f0 is not 0 took 0.020s\n",
      "Successfully created the directory /mnt/User_Data/UserData/eliasmfs/Cerebellar_Open_Closed_Loops/SlowData/Simulations/Networks/200PC_40DCN_40IO/Seed_closed_open_loops_diff_tau/120000ms/after_Plasticity/Zebrin_negative/Noise_gain_10/Noise_filtered_pulse_open/Figures \n",
      "Successfully created the directory /mnt/User_Data/UserData/eliasmfs/Cerebellar_Open_Closed_Loops/SlowData/Simulations/Networks/200PC_40DCN_40IO/Seed_closed_open_loops_diff_tau/120000ms/after_Plasticity/Zebrin_negative/Noise_gain_10/Noise_filtered_pulse_open/Output \n",
      "TIME: starting save took 0.000s\n",
      "TIME: Seed: closed_open_loops_diff_tau, Noise Gain: 1, Zebrin: negative, Plasticity: after_Plasticity, f0: pulse_open took 557.912s\n",
      "CPU times: user 15min 46s, sys: 13min 32s, total: 29min 19s\n",
      "Wall time: 4h 10min 52s\n"
     ]
    }
   ],
   "source": [
    "%%time\n",
    "import sys, os\n",
    "year = '2023'\n",
    "path_gen = '/home/eliasmfs/Erasmus MC/Projects/Cerebellar_Open_Closed_Loops'\n",
    "path_data = f'/mnt/User_Data/UserData/eliasmfs/Cerebellar_Open_Closed_Loops/SlowData/'\n",
    "path_code = f'{path_gen}'\n",
    "path_functions = f'{path_code}/Functions'\n",
    "sys.path.append(path_data)\n",
    "sys.path.append(path_functions)\n",
    "from Run import *\n",
    "import decimal\n",
    "\n",
    "\n",
    "record = {}\n",
    "record['Noise'] = True\n",
    "record['PC'] = True\n",
    "record['DCN'] = True\n",
    "record['IO'] = True\n",
    "record['conn_N_PC'] = True\n",
    "record['Input_presyn'] = True\n",
    "\n",
    "\n",
    "save = 1\n",
    "show = 0\n",
    "A_w = 1.5\n",
    "\n",
    "exp_run_range = [120000]*ms\n",
    "\n",
    "network_range = [200]\n",
    "\n",
    "\n",
    "plas_range = 1\n",
    "plasticity_range = ['no_Plasticity','Plasticity','after_Plasticity']\n",
    "range_plasticity = ['Plasticity']\n",
    "range_after_plasticity = ['after_Plasticity']\n",
    "if plas_range > 1:\n",
    "    for plas_num in range(2,plas_range+1):\n",
    "        plasticity_range.append(f'Plasticity{plas_num}')\n",
    "        range_plasticity.append(f'Plasticity{plas_num}')\n",
    "        plasticity_range.append(f'after_Plasticity{plas_num}')\n",
    "        range_after_plasticity.append(f'after_Plasticity{plas_num}')\n",
    "\n",
    "zebrin_range = ['positive','negative']\n",
    "\n",
    "noise_gain_range =  [1]\n",
    "\n",
    "\n",
    "\n",
    "N_Cells_PF = 5\n",
    "seed_number_range = ['closed_open_loops_diff_tau']\n",
    "sims = ['eye_blink','pulse','eye_blink_open','pulse_open']  \n",
    "\n",
    "f0_range = []\n",
    "\n",
    "shunting = False\n",
    "         \n",
    "parameters_value = { \"range_plasticity\": range_plasticity, \"range_after_plasticity\": range_after_plasticity,\n",
    "                \"PC_I_intrinsic\": 0.15, \"thre3sh_M\": 80*Hz, \"delta_weight_BCM\": 0, \"delta_weight_CS\": -0.1,#-0.02\n",
    "                \"shunting\": shunting, \"unfiltered\": True, \"filtered\": True, \"f0_range\": f0_range, \"filter_order\": 6,\n",
    "                \"simulations\": sims,\n",
    "                \"positive\":{\n",
    "                    \"Uncoupled\":{'w_IO_DCN': -2.0, 'PC_DCN': 5.0, 'leak': 0.001, 'gCal': 1.2, 'b_OU': -0.7, \n",
    "                                 'sigma_OU': 0.7},\n",
    "                    'Coupled': {'w_IO_DCN': -2.0, 'PC_DCN': 5.0, 'leak': 0.001, 'gCal': 1.4, 'b_OU': -0.3,\n",
    "                                'sigma_OU': 0.7}},\n",
    "                'negative':{\n",
    "                    'Uncoupled': {'w_IO_DCN': -1.8, 'PC_DCN': 4.0, 'leak': 0.001, 'gCal': 1.4, 'b_OU': -0.3,\n",
    "                                  'sigma_OU': 0.3},\n",
    "                    'Coupled': {'w_IO_DCN': -1.8, 'PC_DCN': 4.0, 'leak': 0.001, 'gCal': 1.4, 'b_OU': -0.6, \n",
    "                                'sigma_OU': 0.7}}}\n",
    "\n",
    "run_me(parameters_value,plasticity_range,exp_run_range,network_range,zebrin_range,noise_gain_range,record,seed_number_range,path_data,save,show)"
   ]
  },
  {
   "cell_type": "code",
   "execution_count": 2,
   "id": "25e0311a",
   "metadata": {},
   "outputs": [],
   "source": [
    "import brian2 as b2\n",
    "b2.device.delete(force=True)"
   ]
  }
 ],
 "metadata": {
  "kernelspec": {
   "display_name": "Python 3",
   "language": "python",
   "name": "python3"
  },
  "language_info": {
   "codemirror_mode": {
    "name": "ipython",
    "version": 3
   },
   "file_extension": ".py",
   "mimetype": "text/x-python",
   "name": "python",
   "nbconvert_exporter": "python",
   "pygments_lexer": "ipython3",
   "version": "3.8.10"
  }
 },
 "nbformat": 4,
 "nbformat_minor": 5
}
